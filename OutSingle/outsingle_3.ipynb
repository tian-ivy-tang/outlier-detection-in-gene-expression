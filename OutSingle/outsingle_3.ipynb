{
 "cells": [
  {
   "cell_type": "code",
   "execution_count": 15,
   "id": "c77a07c7",
   "metadata": {},
   "outputs": [
    {
     "data": {
      "text/plain": [
       "'Geuvadis'"
      ]
     },
     "execution_count": 15,
     "metadata": {},
     "output_type": "execute_result"
    }
   ],
   "source": [
    "import os\n",
    "file_name = '/s/project/sys_gen_students/2023_2024/outrider/counts/Geuvadis.tsv'\n",
    "file_base_name = os.path.split(file_name)[1]\n",
    "file_base_name = os.path.splitext(file_base_name)[0]\n"
   ]
  },
  {
   "cell_type": "code",
   "execution_count": 16,
   "id": "19c11d45",
   "metadata": {},
   "outputs": [
    {
     "data": {
      "text/plain": [
       "'Geuvadis'"
      ]
     },
     "execution_count": 16,
     "metadata": {},
     "output_type": "execute_result"
    }
   ],
   "source": [
    "file_name = '/s/project/sys_gen_students/2023_2024/outrider/counts/Geuvadis.tsv'\n",
    "file_base_name = os.path.split(file_name)[1]\n",
    "file_base_name = os.path.splitext(file_base_name)[0]\n",
    "file_base_name"
   ]
  },
  {
   "cell_type": "code",
   "execution_count": 12,
   "id": "12249388",
   "metadata": {
    "scrolled": true
   },
   "outputs": [
    {
     "data": {
      "text/html": [
       "<div>\n",
       "<style scoped>\n",
       "    .dataframe tbody tr th:only-of-type {\n",
       "        vertical-align: middle;\n",
       "    }\n",
       "\n",
       "    .dataframe tbody tr th {\n",
       "        vertical-align: top;\n",
       "    }\n",
       "\n",
       "    .dataframe thead th {\n",
       "        text-align: right;\n",
       "    }\n",
       "</style>\n",
       "<table border=\"1\" class=\"dataframe\">\n",
       "  <thead>\n",
       "    <tr style=\"text-align: right;\">\n",
       "      <th></th>\n",
       "      <th>Dataset</th>\n",
       "      <th>Method</th>\n",
       "      <th>Time</th>\n",
       "      <th>Q</th>\n",
       "      <th>Column_nb</th>\n",
       "    </tr>\n",
       "  </thead>\n",
       "  <tbody>\n",
       "    <tr>\n",
       "      <th>0</th>\n",
       "      <td>Geuvadis</td>\n",
       "      <td>outrider</td>\n",
       "      <td>1.266677</td>\n",
       "      <td>5</td>\n",
       "      <td>5</td>\n",
       "    </tr>\n",
       "    <tr>\n",
       "      <th>1</th>\n",
       "      <td>dd</td>\n",
       "      <td>OutSingle</td>\n",
       "      <td>2</td>\n",
       "      <td>3</td>\n",
       "      <td>47</td>\n",
       "    </tr>\n",
       "  </tbody>\n",
       "</table>\n",
       "</div>"
      ],
      "text/plain": [
       "    Dataset     Method      Time  Q  Column_nb\n",
       "0  Geuvadis   outrider  1.266677  5          5\n",
       "1        dd  OutSingle         2  3         47"
      ]
     },
     "execution_count": 12,
     "metadata": {},
     "output_type": "execute_result"
    }
   ],
   "source": [
    "import pandas as pd\n",
    "\n",
    "summary_stats = pd.read_csv('results/summary_stats.csv', \n",
    "                                header=0, index_col=False)\n",
    "summary_stats.loc[len(summary_stats)] = [file_base_name, 'OutSingle', time_taken, s_dimension, col_nb] \n",
    "summary_stats"
   ]
  },
  {
   "cell_type": "code",
   "execution_count": 13,
   "id": "3156a789",
   "metadata": {},
   "outputs": [],
   "source": [
    "import helpers as h\n",
    "h.save_df_to_csv(summary_stats, 'results/summary_stats.csv', index = False)"
   ]
  },
  {
   "cell_type": "code",
   "execution_count": 14,
   "id": "d0a66c4f",
   "metadata": {},
   "outputs": [],
   "source": [
    "from datetime import datetime\n",
    "from datetime import timedelta\n",
    "\n",
    "start_time = datetime.now()\n"
   ]
  },
  {
   "cell_type": "code",
   "execution_count": 18,
   "id": "282df618",
   "metadata": {},
   "outputs": [],
   "source": [
    "time_taken = round(timedelta.total_seconds(datetime.now() - start_time) / 60.0, 2)"
   ]
  },
  {
   "cell_type": "code",
   "execution_count": 19,
   "id": "a3fe78b3",
   "metadata": {},
   "outputs": [
    {
     "data": {
      "text/plain": [
       "1.03"
      ]
     },
     "execution_count": 19,
     "metadata": {},
     "output_type": "execute_result"
    }
   ],
   "source": [
    "time_taken"
   ]
  }
 ],
 "metadata": {
  "kernelspec": {
   "display_name": "Python 3 (ipykernel)",
   "language": "python",
   "name": "python3"
  },
  "language_info": {
   "codemirror_mode": {
    "name": "ipython",
    "version": 3
   },
   "file_extension": ".py",
   "mimetype": "text/x-python",
   "name": "python",
   "nbconvert_exporter": "python",
   "pygments_lexer": "ipython3",
   "version": "3.9.18"
  }
 },
 "nbformat": 4,
 "nbformat_minor": 5
}
